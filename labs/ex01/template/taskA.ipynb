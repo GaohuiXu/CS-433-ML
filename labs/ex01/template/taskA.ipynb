{
  "cells": [
    {
      "cell_type": "code",
      "execution_count": null,
      "metadata": {
        "id": "RnTLPuTrqVx5"
      },
      "outputs": [],
      "source": [
        "# Import necessary libraries\n",
        "%matplotlib inline\n",
        "import numpy as np\n",
        "import matplotlib.pyplot as plt\n",
        "\n",
        "%load_ext autoreload\n",
        "%autoreload 2\n",
        "\n",
        "# Load test module for sanity check\n",
        "from test_utils import test"
      ]
    },
    {
      "cell_type": "markdown",
      "metadata": {
        "id": "0NtA15THqVx5"
      },
      "source": [
        "Data Generation\n",
        "==="
      ]
    },
    {
      "cell_type": "code",
      "execution_count": null,
      "metadata": {
        "id": "DaVTMaIjqVx6"
      },
      "outputs": [],
      "source": [
        "num_samples, num_features = 10, 5"
      ]
    },
    {
      "cell_type": "code",
      "execution_count": null,
      "metadata": {
        "id": "jgKfpM2oqVx6"
      },
      "outputs": [],
      "source": [
        "np.random.seed(10)\n",
        "data = np.random.rand(num_samples, num_features)"
      ]
    },
    {
      "cell_type": "markdown",
      "metadata": {
        "id": "b8A2XhpxqVx6"
      },
      "source": [
        "Solution\n",
        "==="
      ]
    },
    {
      "cell_type": "code",
      "execution_count": null,
      "metadata": {
        "id": "rTzLPfW0qVx7"
      },
      "outputs": [],
      "source": [
        "print(data)"
      ]
    },
    {
      "cell_type": "code",
      "execution_count": null,
      "metadata": {
        "id": "6Nwr_2dgqVx7"
      },
      "outputs": [],
      "source": [
        "def standardize(x):\n",
        "    \"\"\"Stadartize the input data x\n",
        "\n",
        "    Args:\n",
        "        x: numpy array of shape=(num_samples, num_features)\n",
        "\n",
        "    Returns:\n",
        "        standartized data, shape=(num_samples, num_features)\n",
        "\n",
        "    >>> standardize(np.array([[1, 2], [3, 4], [5, 6]]))\n",
        "    array([[-1.22474487, -1.22474487],\n",
        "           [ 0.        ,  0.        ],\n",
        "           [ 1.22474487,  1.22474487]])\n",
        "    \"\"\"\n",
        "    # ***************************************************\n",
        "    # INSERT YOUR CODE HERE\n",
        "    # TODO: standartize input data x\n",
        "    # ***************************************************\n",
        "    raise NotImplementedError\n",
        "    return std_data\n",
        "\n",
        "\n",
        "test(standardize)"
      ]
    },
    {
      "cell_type": "code",
      "execution_count": null,
      "metadata": {
        "id": "oBDuAp-qqVx7"
      },
      "outputs": [],
      "source": [
        "std_data = standardize(data)\n",
        "print(std_data, \"\\n\\n\", np.mean(std_data, axis=0), \"\\n\\n\", np.std(std_data, axis=0))"
      ]
    },
    {
      "cell_type": "code",
      "execution_count": null,
      "metadata": {
        "id": "eyaeVZdSqVx7"
      },
      "outputs": [],
      "source": []
    }
  ],
  "metadata": {
    "language_info": {
      "name": "python"
    },
    "colab": {
      "provenance": []
    }
  },
  "nbformat": 4,
  "nbformat_minor": 0
}